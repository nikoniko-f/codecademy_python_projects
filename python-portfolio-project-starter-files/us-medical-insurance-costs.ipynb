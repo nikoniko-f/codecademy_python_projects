{
 "cells": [
  {
   "cell_type": "markdown",
   "metadata": {},
   "source": [
    "# U.S. Medical Insurance Costs"
   ]
  },
  {
   "cell_type": "markdown",
   "metadata": {},
   "source": [
    "## 0. Ideas for Analysis"
   ]
  },
  {
   "cell_type": "markdown",
   "metadata": {},
   "source": [
    "#### Histograms \n",
    "- Number of entries\n",
    "- Number of female/male, smoker/non-smoker, etc.\n",
    "    - Write function to find unique values for each keyword\n",
    "    - Write function to count how often values appear\n",
    "\n",
    "- Averages, standard distribution\n",
    "\n",
    "- Different regions (SW, NW, NE, ...)\n",
    "\n",
    "Create class for Analysis with different methods!\n",
    "\n",
    "\n",
    "#### Optional analysis\n",
    "- Plot data\n",
    "\n",
    "- Linear Regression on all parameters (find formula for the insurance, i.e. minimize least square error -->\n",
    "implement exact solution)\n",
    "\n"
   ]
  },
  {
   "cell_type": "code",
   "execution_count": 3,
   "metadata": {},
   "outputs": [],
   "source": [
    "import csv\n",
    "import matplotlib.pyplot as plt"
   ]
  },
  {
   "cell_type": "markdown",
   "metadata": {},
   "source": [
    "## 1. Inspect the CSV file"
   ]
  },
  {
   "cell_type": "markdown",
   "metadata": {},
   "source": [
    "We take a look at the first few lines of the CSV file to see the information:\n",
    "\n"
   ]
  },
  {
   "cell_type": "code",
   "execution_count": 4,
   "metadata": {
    "scrolled": true
   },
   "outputs": [
    {
     "name": "stdout",
     "output_type": "stream",
     "text": [
      "age,sex,bmi,children,smoker,region,charges\n",
      "\n",
      "19,female,27.9,0,yes,southwest,16884.924\n",
      "\n",
      "18,male,33.77,1,no,southeast,1725.5523\n",
      "\n",
      "28,male,33,3,no,southeast,4449.462\n",
      "\n",
      "33,male,22.705,0,no,northwest,21984.47061\n",
      "\n"
     ]
    }
   ],
   "source": [
    "# print head of csv file\n",
    "with open('insurance.csv') as insurance_csv:\n",
    "    for i in range(5):\n",
    "        print(insurance_csv.readline())"
   ]
  },
  {
   "cell_type": "markdown",
   "metadata": {},
   "source": [
    "The first row gives the keys for the other rows. We see that there is no running index for the data points. The separator is a comma (`,`).\n",
    "\n",
    "### Parameters:\n",
    "- `age`: Age in years (as `int`)\n",
    "- `sex`: Sex (as `string` 'female'/'male')\n",
    "- `bmi`: BMI (as `float`)\n",
    "- `children`: Number of Children (as `int`)\n",
    "- `smoker`: Smoker (as `string` 'yes'/'no')\n",
    "- `region`: Region (as `string` 'southwest')\n",
    "- `charges`: Insurance charges in dollars (as `float`)\n"
   ]
  },
  {
   "cell_type": "markdown",
   "metadata": {},
   "source": [
    "## 2. Import libraries"
   ]
  },
  {
   "cell_type": "code",
   "execution_count": 5,
   "metadata": {},
   "outputs": [],
   "source": [
    "import csv\n",
    "import matplotlib.pyplot as plt\n",
    "import random"
   ]
  },
  {
   "cell_type": "markdown",
   "metadata": {},
   "source": [
    "## 3. Import file into Python as lists"
   ]
  },
  {
   "cell_type": "markdown",
   "metadata": {},
   "source": [
    "We want to load the information for each column, i.e. each key, into its own list:"
   ]
  },
  {
   "cell_type": "code",
   "execution_count": 6,
   "metadata": {},
   "outputs": [],
   "source": [
    "def load_data_list(lst,filename,key):\n",
    "    \n",
    "    with open(filename) as insurance_csv:\n",
    "        reader = csv.DictReader(insurance_csv)\n",
    "        for row in reader:\n",
    "            lst.append(row[key])\n",
    "    \n",
    "    return lst"
   ]
  },
  {
   "cell_type": "code",
   "execution_count": 7,
   "metadata": {},
   "outputs": [
    {
     "name": "stdout",
     "output_type": "stream",
     "text": [
      "['27.9', '33.77', '33', '22.705', '28.88', '25.74', '33.44', '27.74', '29.83', '25.84']\n"
     ]
    }
   ],
   "source": [
    "age_list = []\n",
    "sex_list = []\n",
    "bmi_list = []\n",
    "children_list = []\n",
    "smoker_list = []\n",
    "region_list = []\n",
    "charges_list = []\n",
    "\n",
    "load_data_list(age_list,'insurance.csv','age')\n",
    "load_data_list(sex_list,'insurance.csv','sex')\n",
    "load_data_list(bmi_list,'insurance.csv','bmi')\n",
    "load_data_list(children_list,'insurance.csv','children')\n",
    "load_data_list(smoker_list,'insurance.csv','smoker')\n",
    "load_data_list(region_list,'insurance.csv','region')\n",
    "load_data_list(charges_list,'insurance.csv','charges')\n",
    "\n",
    "print([bmi_list[i] for i in range(10)])"
   ]
  },
  {
   "cell_type": "markdown",
   "metadata": {},
   "source": [
    "# 4. Analyse Data"
   ]
  },
  {
   "cell_type": "markdown",
   "metadata": {},
   "source": [
    "We want to create a class containing both the data from the lists as well as dedicated methods for analysis:"
   ]
  },
  {
   "cell_type": "code",
   "execution_count": 79,
   "metadata": {},
   "outputs": [],
   "source": [
    "class PatientInfo:\n",
    "    def __init__(self, ages, sexes, bmis, children, smokers, regions, charges):\n",
    "        self.ages = [int(age) for age in ages]\n",
    "        self.sexes = [int(sex == 'female') for sex in sexes] # transform sex into 0 for male, 1 for female\n",
    "        self.bmis = [float(bmi) for bmi in bmis]\n",
    "        self.children = [int(child) for child in children]\n",
    "        self.smokers = [int(smoker == 'yes') for smoker in smokers] #transform 'smoker' into 1 and 'non-smoker' into 0\n",
    "        self.regions = regions\n",
    "        self.charges = [float(charge) for charge in charges]\n",
    "        \n",
    "        \n",
    "    def category(self,string):\n",
    "        if string == 'age':\n",
    "            return self.ages\n",
    "        if string == 'sex':\n",
    "            return self.sexes\n",
    "        if string == 'bmi':\n",
    "            return self.bmis\n",
    "        if string == 'children':\n",
    "            return self.children\n",
    "        if string == 'smoker':\n",
    "            return self.smokers\n",
    "        if string == 'region':\n",
    "            return self.regions\n",
    "        if string == 'charges':\n",
    "            return self.charges\n",
    "    \n",
    "    def number(self):\n",
    "        return len(self.ages)\n",
    "    \n",
    "    def average(self,string):\n",
    "        total = 0\n",
    "        current_list = self.category(string)\n",
    "        for value in current_list:\n",
    "            total += value\n",
    "        return total / self.number()\n",
    "        \n",
    "    def nr_men_women(self):\n",
    "        return self.sexes.count(0), self.sexes.count(1)    \n",
    "    \n",
    "    def print_men_women(self):\n",
    "        men_nr, women_nr = self.nr_men_women()\n",
    "        men_percent = men_nr / self.number() *100\n",
    "        women_percent = women_nr / self.number() *100\n",
    "        print(\"This dataset contains {} men ({:.2f} percent) and {} women ({:.2f} percent).\".format(men_nr,men_percent,women_nr,women_percent))\n",
    "    \n",
    "    def nr_smoker_nonsmoker(self):\n",
    "        return self.smokers.count(0), self.smokers.count(1)\n",
    "    \n",
    "    def print_smoker(self):\n",
    "        smoker_nr, nonsmoker_nr = self.nr_smoker_nonsmoker()\n",
    "        smoker_percent = smoker_nr / self.number() *100\n",
    "        nonsmoker_percent = nonsmoker_nr / self.number() *100\n",
    "        print(\"This dataset contains {} smokers ({:.2f} percent) and {} non-smokers ({:.2f} percent).\".format(smoker_nr,smoker_percent,nonsmoker_nr,nonsmoker_percent))\n",
    "    \n",
    "    def unique_values(self,string):\n",
    "        unique = []\n",
    "        current_list = self.category(string)\n",
    "        for element in current_list:\n",
    "            if element not in unique:  # this guarantees uniqueness of values\n",
    "                    unique.append(element)\n",
    "        \n",
    "        if type(unique[0]) == float or type(unique[0]) == int:\n",
    "            sorted_unique = sorted(unique)\n",
    "            return sorted_unique\n",
    "        else:\n",
    "            return unique\n",
    "        \n",
    "    def unique_value_count(self, string):\n",
    "        current_list = self.category(string)\n",
    "        unique_values = self.unique_values(string)\n",
    "        value_count = [current_list.count(element) for element in unique_values]\n",
    "        return list(zip(unique_values, value_count))\n",
    "    \n",
    "    def create_histogram(self, string):\n",
    "        value_list =  self.unique_value_count(string)\n",
    "        \n",
    "        return plt.bar(*zip(*value_list))"
   ]
  },
  {
   "cell_type": "markdown",
   "metadata": {},
   "source": [
    "Now we create an instance of this class and input the data from our lists:"
   ]
  },
  {
   "cell_type": "code",
   "execution_count": 80,
   "metadata": {},
   "outputs": [],
   "source": [
    "patient_data = PatientInfo(age_list,sex_list,bmi_list,children_list,smoker_list,region_list,charges_list)\n"
   ]
  },
  {
   "cell_type": "markdown",
   "metadata": {},
   "source": [
    "The individual data points can be accessed by calling the different attributes of the object:"
   ]
  },
  {
   "cell_type": "code",
   "execution_count": 17,
   "metadata": {},
   "outputs": [
    {
     "name": "stdout",
     "output_type": "stream",
     "text": [
      "[27.9, 33.77, 33.0, 22.705, 28.88, 25.74, 33.44, 27.74, 29.83, 25.84]\n",
      "[1, 0, 0, 0, 0, 1, 1, 1, 0, 1]\n"
     ]
    }
   ],
   "source": [
    "print([patient_data.bmis[i] for i in range(10)])\n",
    "print([patient_data.sexes[i] for i in range(10)])\n"
   ]
  },
  {
   "cell_type": "markdown",
   "metadata": {},
   "source": [
    "## 4.1 Number of Data Points"
   ]
  },
  {
   "cell_type": "markdown",
   "metadata": {},
   "source": [
    "The method `number()` counts the number of datapoints, which will also be used in other methods calculating averages and percentages:"
   ]
  },
  {
   "cell_type": "code",
   "execution_count": 86,
   "metadata": {},
   "outputs": [
    {
     "name": "stdout",
     "output_type": "stream",
     "text": [
      "1338\n"
     ]
    }
   ],
   "source": [
    "print(patient_data.number())"
   ]
  },
  {
   "cell_type": "markdown",
   "metadata": {},
   "source": [
    "## 4.2 Find Averages of Numerical Values"
   ]
  },
  {
   "cell_type": "markdown",
   "metadata": {},
   "source": [
    "The `category` method is used to determine which attribute list to use, depending on the input string. This can be used for functions such as `average`, which enable the user to take the average of different categories."
   ]
  },
  {
   "cell_type": "markdown",
   "metadata": {},
   "source": [
    "Average age of the patients in the data set:"
   ]
  },
  {
   "cell_type": "code",
   "execution_count": 18,
   "metadata": {},
   "outputs": [
    {
     "name": "stdout",
     "output_type": "stream",
     "text": [
      "39.20702541106129\n"
     ]
    }
   ],
   "source": [
    "print(patient_data.average('age'))"
   ]
  },
  {
   "cell_type": "markdown",
   "metadata": {},
   "source": [
    "Average insurance cost of patients in the data set:"
   ]
  },
  {
   "cell_type": "code",
   "execution_count": 88,
   "metadata": {},
   "outputs": [
    {
     "name": "stdout",
     "output_type": "stream",
     "text": [
      "13270.422265141257\n"
     ]
    }
   ],
   "source": [
    "print(patient_data.average('charges'))"
   ]
  },
  {
   "cell_type": "markdown",
   "metadata": {},
   "source": [
    "Average number of children of patients in the data set:"
   ]
  },
  {
   "cell_type": "code",
   "execution_count": 89,
   "metadata": {},
   "outputs": [
    {
     "name": "stdout",
     "output_type": "stream",
     "text": [
      "1.0949177877429\n"
     ]
    }
   ],
   "source": [
    "print(patient_data.average('children'))"
   ]
  },
  {
   "cell_type": "markdown",
   "metadata": {},
   "source": [
    "## 4.3 Find numbers for binary categories"
   ]
  },
  {
   "cell_type": "markdown",
   "metadata": {},
   "source": [
    "We can use the `print_men_women` method to print out the numbers and percentages of men and women in the dataset:"
   ]
  },
  {
   "cell_type": "code",
   "execution_count": 63,
   "metadata": {},
   "outputs": [
    {
     "name": "stdout",
     "output_type": "stream",
     "text": [
      "This dataset contains 676 men (50.52 percent) and 662 women (49.48 percent).\n"
     ]
    }
   ],
   "source": [
    "patient_data.print_men_women()"
   ]
  },
  {
   "cell_type": "markdown",
   "metadata": {},
   "source": [
    "Similarly, we can print out the numbers of smokers and non-smokers in the data with the `print_smoker` method:"
   ]
  },
  {
   "cell_type": "code",
   "execution_count": 66,
   "metadata": {},
   "outputs": [
    {
     "name": "stdout",
     "output_type": "stream",
     "text": [
      "This dataset contains 1064 smokers (79.52 percent) and 274 non-smokers (20.48 percent).\n"
     ]
    }
   ],
   "source": [
    "patient_data.print_smoker()"
   ]
  },
  {
   "cell_type": "markdown",
   "metadata": {},
   "source": [
    "## 4.4 Find counts of unique values and plot histograms"
   ]
  },
  {
   "cell_type": "markdown",
   "metadata": {},
   "source": [
    "For each keyword, the `unique_values` method returns a list of all unique values found in the corresponding list.  "
   ]
  },
  {
   "cell_type": "code",
   "execution_count": 67,
   "metadata": {},
   "outputs": [
    {
     "data": {
      "text/plain": [
       "['southwest', 'southeast', 'northwest', 'northeast']"
      ]
     },
     "execution_count": 67,
     "metadata": {},
     "output_type": "execute_result"
    }
   ],
   "source": [
    "patient_data.unique_values('region')"
   ]
  },
  {
   "cell_type": "markdown",
   "metadata": {},
   "source": [
    "If the corresponding list has a numerical type of `float` or `int`, the list is also returned as a sorted list."
   ]
  },
  {
   "cell_type": "code",
   "execution_count": 33,
   "metadata": {},
   "outputs": [
    {
     "data": {
      "text/plain": [
       "[0, 1, 2, 3, 4, 5]"
      ]
     },
     "execution_count": 33,
     "metadata": {},
     "output_type": "execute_result"
    }
   ],
   "source": [
    "patient_data.unique_values('children')"
   ]
  },
  {
   "cell_type": "markdown",
   "metadata": {},
   "source": [
    "The `unique_value_count` method returns a list of unique values and their counts for a category:"
   ]
  },
  {
   "cell_type": "code",
   "execution_count": 69,
   "metadata": {},
   "outputs": [
    {
     "data": {
      "text/plain": [
       "[('southwest', 325),\n",
       " ('southeast', 364),\n",
       " ('northwest', 325),\n",
       " ('northeast', 324)]"
      ]
     },
     "execution_count": 69,
     "metadata": {},
     "output_type": "execute_result"
    }
   ],
   "source": [
    "patient_data.unique_value_count('region')"
   ]
  },
  {
   "cell_type": "markdown",
   "metadata": {},
   "source": [
    "We can create histograms for each category by calling the `create_histogram` method. This plots the counts for the unique values as determined by the `unique_value_count` method."
   ]
  },
  {
   "cell_type": "code",
   "execution_count": 82,
   "metadata": {},
   "outputs": [
    {
     "data": {
      "image/png": "[encoded data removed]",
      "text/plain": [
       "<Figure size 432x288 with 1 Axes>"
      ]
     },
     "metadata": {
      "needs_background": "light"
     },
     "output_type": "display_data"
    }
   ],
   "source": [
    "patient_data.create_histogram('bmi')\n",
    "plt.show()"
   ]
  }
 ],
 "metadata": {
  "kernelspec": {
   "display_name": "Python 3",
   "language": "python",
   "name": "python3"
  },
  "language_info": {
   "codemirror_mode": {
    "name": "ipython",
    "version": 3
   },
   "file_extension": ".py",
   "mimetype": "text/x-python",
   "name": "python",
   "nbconvert_exporter": "python",
   "pygments_lexer": "ipython3",
   "version": "3.6.9"
  }
 },
 "nbformat": 4,
 "nbformat_minor": 4
}
